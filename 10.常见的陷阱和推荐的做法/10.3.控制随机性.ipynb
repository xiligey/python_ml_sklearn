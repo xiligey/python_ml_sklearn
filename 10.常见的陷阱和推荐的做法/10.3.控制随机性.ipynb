{
 "cells": [
  {
   "cell_type": "markdown",
   "source": [
    "一些 scikit-learn 对象本质上是随机的。这些通常是估计器（例如RandomForestClassifier）和交叉验证分离器（例如KFold）。\n",
    "这些对象的随机性通过它们的random_state参数来控制。本节扩展了词汇表条目，并描述了这个微妙参数的良好实践和常见缺陷。"
   ],
   "metadata": {
    "collapsed": false
   }
  },
  {
   "cell_type": "markdown",
   "source": [
    "- 为了获得交叉验证 (CV) 结果的最佳稳健性，请在创建估计器时传递RandomState实例，或令random_state=None。\n",
    "- 将整数传递给 CV 拆分器通常是最安全的选择，而且更可取；\n",
    "- 将RandomState实例传递给拆分器有时可能有助于实现非常具体的用例。\n",
    "- 对于估计器和拆分器，传递整数与传递实例（或None）会导致细微但显着的差异，尤其是对于 CV 过程。在报告结果时了解这些差异很重要。\n",
    "- 对于跨执行的可重现结果，请删除任何使用random_state=None的地方"
   ],
   "metadata": {
    "collapsed": false
   }
  },
  {
   "cell_type": "markdown",
   "source": [
    "# 使用NoneorRandomState实例，并重复调用fit 和 split"
   ],
   "metadata": {
    "collapsed": false
   }
  },
  {
   "cell_type": "markdown",
   "source": [
    "该random_state参数根据以下规则确定多次调用 fit 或 split 是否会产生相同的结果：\n",
    "- 如果传递一个整数，调用fit or split多次总是产生相同的结果\n",
    "- 如果None或一个RandomState实例被传递：fit和split会产生不同的结果。"
   ],
   "metadata": {
    "collapsed": false
   }
  },
  {
   "cell_type": "code",
   "execution_count": null,
   "metadata": {
    "collapsed": true
   },
   "outputs": [],
   "source": []
  }
 ],
 "metadata": {
  "kernelspec": {
   "display_name": "Python 3",
   "language": "python",
   "name": "python3"
  },
  "language_info": {
   "codemirror_mode": {
    "name": "ipython",
    "version": 2
   },
   "file_extension": ".py",
   "mimetype": "text/x-python",
   "name": "python",
   "nbconvert_exporter": "python",
   "pygments_lexer": "ipython2",
   "version": "2.7.6"
  }
 },
 "nbformat": 4,
 "nbformat_minor": 0
}