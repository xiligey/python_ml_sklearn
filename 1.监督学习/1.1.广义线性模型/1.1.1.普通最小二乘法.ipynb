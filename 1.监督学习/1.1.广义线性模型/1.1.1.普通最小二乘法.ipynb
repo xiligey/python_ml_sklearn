{
 "cells": [
  {
   "cell_type": "markdown",
   "source": [
    "**目录**：\n",
    "1. 普通最小二乘法\n",
    "2. 示例\n",
    "3. 非负最小二乘法\n",
    "4. 算法复杂度\n",
    "\n",
    "---"
   ],
   "metadata": {
    "collapsed": false,
    "pycharm": {
     "name": "#%% md\n"
    }
   }
  },
  {
   "cell_type": "markdown",
   "metadata": {
    "collapsed": true,
    "pycharm": {
     "name": "#%% md\n"
    }
   },
   "source": []
  },
  {
   "cell_type": "markdown",
   "source": [
    "# 普通最小二乘法"
   ],
   "metadata": {
    "collapsed": false,
    "pycharm": {
     "name": "#%% md\n"
    }
   }
  },
  {
   "cell_type": "markdown",
   "source": [
    "`LinearRegression` 拟合一个带有系数 `w=(w_1,w_2,...,w_p)` 的线性模型，使得实际数据值和预测值之间的残差平方和最小，其数学表达式为\n",
    "\n",
    "$$\n",
    "min_w||Xw-y||^2_2\n",
    "$$\n",
    "\n",
    "`LinearRegression`会调用`fit`方法来拟合数组 X， y，并且将线性模型的系数存储在其成员变量`coef_`中:"
   ],
   "metadata": {
    "collapsed": false,
    "pycharm": {
     "name": "#%% md\n"
    }
   }
  },
  {
   "cell_type": "code",
   "execution_count": 1,
   "outputs": [
    {
     "name": "stdout",
     "output_type": "stream",
     "text": [
      "coef_: [0.5 0.5], intercept_: 2.220446049250313e-16\n"
     ]
    }
   ],
   "source": [
    "from sklearn.linear_model import LinearRegression\n",
    "\n",
    "reg = LinearRegression()\n",
    "reg.fit([[0, 0], [1, 1], [2, 2]], [0, 1, 2])\n",
    "coef_ = reg.coef_\n",
    "intercept_ = reg.intercept_\n",
    "\n",
    "print(\"coef_: {}, intercept_: {}\".format(coef_, intercept_))"
   ],
   "metadata": {
    "collapsed": false,
    "pycharm": {
     "name": "#%%\n"
    }
   }
  },
  {
   "cell_type": "markdown",
   "source": [
    "然而，对于普通最小二乘的系数估计问题，其依赖于模型各项的相互独立性。\n",
    "\n",
    "当各项是相关的，且设计矩阵$X$的各列近似线性相关，那么，设计矩阵会趋向于奇异矩阵，\n",
    "\n",
    "这种特性导致最小二乘估计对于随机误差非常敏感，可能产生很大的方差。\n",
    "\n",
    "例如，在没有实验设计的情况下收集到的数据，这种多重共线性（multicollinearity）的情况可能真的会出现。"
   ],
   "metadata": {
    "collapsed": false,
    "pycharm": {
     "name": "#%% md\n"
    }
   }
  },
  {
   "cell_type": "markdown",
   "source": [
    "# 示例"
   ],
   "metadata": {
    "collapsed": false,
    "pycharm": {
     "name": "#%% md\n"
    }
   }
  },
  {
   "cell_type": "markdown",
   "source": [
    "[普通最小二乘法示例](../../12.sklearn示例/12.1.普通最小二乘法示例.ipynb)"
   ],
   "metadata": {
    "collapsed": false,
    "pycharm": {
     "name": "#%% md\n"
    }
   }
  },
  {
   "cell_type": "markdown",
   "source": [
    "# 非负最小二乘法"
   ],
   "metadata": {
    "collapsed": false,
    "pycharm": {
     "name": "#%% md\n"
    }
   }
  },
  {
   "cell_type": "markdown",
   "source": [
    "可以将所有系数约束为非负数，这在它们表示一些物理或自然非负量（例如，频率计数或商品价格）时可能很有用。"
   ],
   "metadata": {
    "collapsed": false,
    "pycharm": {
     "name": "#%% md\n"
    }
   }
  },
  {
   "cell_type": "markdown",
   "source": [
    "# 算法复杂度"
   ],
   "metadata": {
    "collapsed": false,
    "pycharm": {
     "name": "#%% md\n"
    }
   }
  },
  {
   "cell_type": "markdown",
   "source": [
    "该方法使用 $X$ 的奇异值分解来计算最小二乘解。\n",
    "\n",
    "如果 $X$是一个形状为$(n_{samples}, n_{features})$的矩阵，假设$n_{samples} \\ge n_{features}$，则该方法的复杂度为$O(n_{samples}n^2_{features})$"
   ],
   "metadata": {
    "collapsed": false,
    "pycharm": {
     "name": "#%% md\n"
    }
   }
  },
  {
   "cell_type": "code",
   "execution_count": null,
   "outputs": [],
   "source": [],
   "metadata": {
    "collapsed": false,
    "pycharm": {
     "name": "#%%\n"
    }
   }
  }
 ],
 "metadata": {
  "kernelspec": {
   "display_name": "Python 3",
   "language": "python",
   "name": "python3"
  },
  "language_info": {
   "codemirror_mode": {
    "name": "ipython",
    "version": 2
   },
   "file_extension": ".py",
   "mimetype": "text/x-python",
   "name": "python",
   "nbconvert_exporter": "python",
   "pygments_lexer": "ipython2",
   "version": "2.7.6"
  }
 },
 "nbformat": 4,
 "nbformat_minor": 0
}