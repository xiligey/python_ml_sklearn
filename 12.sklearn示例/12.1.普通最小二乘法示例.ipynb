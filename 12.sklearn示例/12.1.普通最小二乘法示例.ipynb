{
 "cells": [
  {
   "cell_type": "markdown",
   "source": [
    "下面的示例仅使用`diabetes`数据集的第一个特征。\n",
    "\n",
    "可以在图中看到直线，显示线性回归如何尝试绘制一条直线，该直线将最好地最小化数据集中观察到的$y$与线性近似预测的$\\hat y$之间的残差平方和。\n",
    "\n",
    "还计算了系数、残差平方和和决定系数。"
   ],
   "metadata": {
    "collapsed": false
   }
  },
  {
   "cell_type": "code",
   "execution_count": 1,
   "metadata": {
    "collapsed": true
   },
   "outputs": [
    {
     "name": "stdout",
     "output_type": "stream",
     "text": [
      "coef_: [938.23786125], intercept_: 152.91886182616167\n",
      "mse: 2548.07239872597\n",
      "r2: 0.47257544798227147\n"
     ]
    },
    {
     "data": {
      "text/plain": "<Figure size 432x288 with 1 Axes>",
      "image/png": "[encoded data removed]"
     },
     "metadata": {
      "needs_background": "light"
     },
     "output_type": "display_data"
    }
   ],
   "source": [
    "import matplotlib.pyplot as plt\n",
    "import numpy as np\n",
    "from sklearn import linear_model, datasets\n",
    "from sklearn.metrics import mean_squared_error, r2_score\n",
    "\n",
    "# 准备数据\n",
    "X, y = datasets.load_diabetes(return_X_y=True)\n",
    "# 选第3列特征且转换为2维\n",
    "X = X[:, np.newaxis, 2]\n",
    "X_train = X[:-20]\n",
    "X_test = X[-20:]\n",
    "y_train = y[:-20]\n",
    "y_test = y[-20:]\n",
    "\n",
    "# 模型训练与预测\n",
    "model = linear_model.LinearRegression()\n",
    "model.fit(X_train, y_train)\n",
    "y_predict = model.predict(X_test)\n",
    "\n",
    "# 模型结果打印\n",
    "print(\"coef_: {}, intercept_: {}\".format(model.coef_, model.intercept_))\n",
    "print(\"mse: {}\".format(mean_squared_error(y_test, y_predict)))\n",
    "print(\"r2: {}\".format(r2_score(y_test, y_predict)))\n",
    "\n",
    "# 模型可视化\n",
    "plt.scatter(X_test, y_test, color=\"black\")\n",
    "plt.plot(X_test, y_predict, color=\"blue\", linewidth=3)\n",
    "plt.xticks()\n",
    "plt.yticks()\n",
    "plt.show()"
   ]
  },
  {
   "cell_type": "code",
   "execution_count": null,
   "outputs": [],
   "source": [],
   "metadata": {
    "collapsed": false,
    "pycharm": {
     "name": "#%%\n"
    }
   }
  }
 ],
 "metadata": {
  "kernelspec": {
   "display_name": "Python 3",
   "language": "python",
   "name": "python3"
  },
  "language_info": {
   "codemirror_mode": {
    "name": "ipython",
    "version": 2
   },
   "file_extension": ".py",
   "mimetype": "text/x-python",
   "name": "python",
   "nbconvert_exporter": "python",
   "pygments_lexer": "ipython2",
   "version": "2.7.6"
  }
 },
 "nbformat": 4,
 "nbformat_minor": 0
}